{
 "cells": [
  {
   "cell_type": "code",
   "execution_count": null,
   "metadata": {},
   "outputs": [],
   "source": [
    "#Tic Tac Toe\n",
    "import random\n",
    "board = [' ']*10\n",
    "\n",
    "def win_check(status,board):\n",
    "    return ((board[7] == status and board[8] == status and board[9] == status) or #across the top\n",
    "    (board[4] == status and board[5] == status and board[6] == status) or    #across the middle\n",
    "    (board[1] == status and board[2] == status and board[3] == status) or    #across the bottom\n",
    "    (board[1] == status and board[5] == status and board[9] == status) or    #diagonally upwards\n",
    "    (board[7] == status and board[5] == status and board[3] == status) or    #diagonally downwards\n",
    "    (board[7] == status and board[4] == status and board[1] == status) or    #down the left\n",
    "    (board[8] == status and board[5] == status and board[2] == status) or    #down the middle\n",
    "    (board[9] == status and board[6] == status and board[3] == status))      #down the right\n",
    "\n",
    "def player_assign():\n",
    "    place = rand.randint(0,1)\n",
    "    if place == 1:\n",
    "        player1 = 1\n",
    "        player2 = 2\n",
    "    else:\n",
    "        player1 = 2\n",
    "        player2 = 1\n",
    "                \n",
    "def print_board():\n",
    "    clear_output()\n",
    "    print(board[7] + '|' + board[8] + '|' + board[9])\n",
    "    print('-+-+-')\n",
    "    print(board[4] + '|' + board[5] + '|' + board[6])\n",
    "    print('-+-+-')\n",
    "    print(board[1] + '|' + board[2] + '|' + board[3])\n",
    "    \n",
    "def player_marker():\n",
    "    if p1mark == 'X' or p1mark == 'O':\n",
    "        \n",
    "    \n",
    "    \n"
   ]
  }
 ],
 "metadata": {
  "kernelspec": {
   "display_name": "Python 3",
   "language": "python",
   "name": "python3"
  },
  "language_info": {
   "codemirror_mode": {
    "name": "ipython",
    "version": 3
   },
   "file_extension": ".py",
   "mimetype": "text/x-python",
   "name": "python",
   "nbconvert_exporter": "python",
   "pygments_lexer": "ipython3",
   "version": "3.6.5"
  }
 },
 "nbformat": 4,
 "nbformat_minor": 2
}
