{
 "cells": [
  {
   "cell_type": "code",
   "execution_count": 25,
   "metadata": {},
   "outputs": [
    {
     "name": "stdout",
     "output_type": "stream",
     "text": [
      "How much money did you pay?: $10\n",
      "How much money did it cost?: $9.22\n",
      "Number of quarters: 3\n",
      "Number of pennies:  3\n"
     ]
    }
   ],
   "source": [
    "#change calculator\n",
    "money = float(input('How much money did you pay?: $'))\n",
    "cost = float(input('How much money did it cost?: $'))\n",
    "money = int(money*100)\n",
    "cost = int(cost*100)\n",
    "quarter = 25\n",
    "dime = 10\n",
    "nickel = 5\n",
    "penny = 1\n",
    "\n",
    "money2 = money - cost\n",
    "quarter2 = money2 // 25\n",
    "money3 = money2 % 25\n",
    "dime2 = money3 // 10\n",
    "money4 = money3 % 10\n",
    "nickel2 = money4 // 5\n",
    "money5 = money4 % 5\n",
    "penny2 = money5 // 1\n",
    "money6 = money5 % 1\n",
    "\n",
    "if quarter2 >= .5:\n",
    "    print('Number of quarters:', int(quarter2))\n",
    "if dime2 >= .5:\n",
    "    print('Number of dimes:', int(dime2))\n",
    "if nickel2 >= .5:\n",
    "    print('Number of nickels:', int(nickel2))\n",
    "if penny2 >= .5:\n",
    "    print('Number of pennies:', int(penny2))"
   ]
  },
  {
   "cell_type": "code",
   "execution_count": 21,
   "metadata": {},
   "outputs": [
    {
     "data": {
      "text/plain": [
       "922.0000000000001"
      ]
     },
     "execution_count": 21,
     "metadata": {},
     "output_type": "execute_result"
    }
   ],
   "source": [
    "cost"
   ]
  },
  {
   "cell_type": "code",
   "execution_count": 7,
   "metadata": {},
   "outputs": [
    {
     "data": {
      "text/plain": [
       "1000.0"
      ]
     },
     "execution_count": 7,
     "metadata": {},
     "output_type": "execute_result"
    }
   ],
   "source": [
    "money"
   ]
  },
  {
   "cell_type": "code",
   "execution_count": null,
   "metadata": {},
   "outputs": [],
   "source": []
  }
 ],
 "metadata": {
  "kernelspec": {
   "display_name": "Python 3",
   "language": "python",
   "name": "python3"
  },
  "language_info": {
   "codemirror_mode": {
    "name": "ipython",
    "version": 3
   },
   "file_extension": ".py",
   "mimetype": "text/x-python",
   "name": "python",
   "nbconvert_exporter": "python",
   "pygments_lexer": "ipython3",
   "version": "3.6.5"
  }
 },
 "nbformat": 4,
 "nbformat_minor": 2
}
