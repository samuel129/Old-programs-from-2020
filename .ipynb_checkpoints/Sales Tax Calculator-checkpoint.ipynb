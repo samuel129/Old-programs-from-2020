{
 "cells": [
  {
   "cell_type": "code",
   "execution_count": 21,
   "metadata": {},
   "outputs": [
    {
     "name": "stdout",
     "output_type": "stream",
     "text": [
      "Please input the amount of money that was transferred in the transaction.10\n",
      "The current rate of sales tax in California is: $ 7.25%\n",
      "The sales tax for your transaction will be: $ 0.72\n",
      "The total for your transaciton including tax will be: $ 10.72\n"
     ]
    }
   ],
   "source": [
    "#Sales Tax Calculator\n",
    "\n",
    "tax = '7.25%'\n",
    "print('The current rate of sales tax in California is:', tax)\n",
    "\n",
    "money = float(input('Please input the amount of money that was transferred in the transaction.'))\n",
    "money2 = money * .0725\n",
    "money2 = round(money2,2)\n",
    "money3 = money * 1.0725\n",
    "money3 = round(money3,2)\n",
    "\n",
    "print('The sales tax for your transaction will be: $', money2)\n",
    "print('The total for your transaciton including tax will be: $', money3)"
   ]
  },
  {
   "cell_type": "code",
   "execution_count": 15,
   "metadata": {},
   "outputs": [
    {
     "data": {
      "text/plain": [
       "137.0"
      ]
     },
     "execution_count": 15,
     "metadata": {},
     "output_type": "execute_result"
    }
   ],
   "source": [
    "money3"
   ]
  },
  {
   "cell_type": "code",
   "execution_count": null,
   "metadata": {},
   "outputs": [],
   "source": []
  }
 ],
 "metadata": {
  "kernelspec": {
   "display_name": "Python 3",
   "language": "python",
   "name": "python3"
  },
  "language_info": {
   "codemirror_mode": {
    "name": "ipython",
    "version": 3
   },
   "file_extension": ".py",
   "mimetype": "text/x-python",
   "name": "python",
   "nbconvert_exporter": "python",
   "pygments_lexer": "ipython3",
   "version": "3.6.5"
  }
 },
 "nbformat": 4,
 "nbformat_minor": 2
}
