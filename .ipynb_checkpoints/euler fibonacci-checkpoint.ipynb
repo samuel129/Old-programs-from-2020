{
 "cells": [
  {
   "cell_type": "code",
   "execution_count": 19,
   "metadata": {},
   "outputs": [
    {
     "name": "stdout",
     "output_type": "stream",
     "text": [
      "4613732\n"
     ]
    }
   ],
   "source": [
    "#1, 2, 3, 5, 8, 13, 21, 34, 55, 89, ...\n",
    "\n",
    "#By considering the terms in the Fibonacci sequence whose values do not exceed four million,\n",
    "#find the sum of the even-valued terms.\n",
    "\n",
    "\n",
    "sum = 0\n",
    "a,b,c = 1,2,0\n",
    "while b <= 4000000:\n",
    "    if b % 2 == 0:\n",
    "        sum += b\n",
    "    c = a + b\n",
    "    a = b\n",
    "    b = c\n",
    "print(sum)\n",
    "\n",
    "    "
   ]
  },
  {
   "cell_type": "code",
   "execution_count": 16,
   "metadata": {},
   "outputs": [
    {
     "data": {
      "text/plain": [
       "2"
      ]
     },
     "execution_count": 16,
     "metadata": {},
     "output_type": "execute_result"
    }
   ],
   "source": []
  },
  {
   "cell_type": "code",
   "execution_count": null,
   "metadata": {},
   "outputs": [],
   "source": []
  }
 ],
 "metadata": {
  "kernelspec": {
   "display_name": "Python 3",
   "language": "python",
   "name": "python3"
  },
  "language_info": {
   "codemirror_mode": {
    "name": "ipython",
    "version": 3
   },
   "file_extension": ".py",
   "mimetype": "text/x-python",
   "name": "python",
   "nbconvert_exporter": "python",
   "pygments_lexer": "ipython3",
   "version": "3.6.5"
  }
 },
 "nbformat": 4,
 "nbformat_minor": 2
}
